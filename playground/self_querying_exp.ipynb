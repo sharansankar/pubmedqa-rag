{
 "cells": [
  {
   "cell_type": "code",
   "execution_count": 5,
   "id": "b5678cd0-0993-4c7c-8667-246504260a78",
   "metadata": {},
   "outputs": [],
   "source": [
    "import sys"
   ]
  },
  {
   "cell_type": "code",
   "execution_count": 6,
   "id": "e388d5e7-2352-444e-8c00-8ad217e0b10d",
   "metadata": {},
   "outputs": [
    {
     "name": "stdout",
     "output_type": "stream",
     "text": [
      "/Users/sharansankar/Desktop/pubmedqa-rag/playground\n"
     ]
    }
   ],
   "source": [
    "! pwd"
   ]
  },
  {
   "cell_type": "code",
   "execution_count": 7,
   "id": "a168a89f-a4eb-43ef-b5f6-35529052ab51",
   "metadata": {},
   "outputs": [],
   "source": [
    "sys.path.insert(0, '/Users/sharansankar/Desktop/pubmedqa-rag/src')"
   ]
  },
  {
   "cell_type": "code",
   "execution_count": 8,
   "id": "413a3d4b-187b-4d32-be41-b5efa5bc8397",
   "metadata": {},
   "outputs": [],
   "source": [
    "from llm_agent import OpenAILLMChatClient"
   ]
  },
  {
   "cell_type": "code",
   "execution_count": 9,
   "id": "3571c2d8-7d49-41a7-b408-4c6ef32d2abb",
   "metadata": {},
   "outputs": [],
   "source": [
    "llm_agent = OpenAILLMChatClient()"
   ]
  },
  {
   "cell_type": "code",
   "execution_count": 23,
   "id": "b43de61e-8efc-4d89-8aab-0d3eef2a244c",
   "metadata": {},
   "outputs": [],
   "source": [
    "DEFAULT_TOPIC_SELF_QUERY_TEMPLATE = \"\"\"\n",
    "You are a LLM with no context on the following Pubmed-related prompt: {prompt}\n",
    "\n",
    "You have a Pubmed context database that you can use to query for context. You must output a set of {n} topics separated by commas \n",
    "to query this context database\n",
    "\n",
    "As an example:\n",
    "Prompt: Do mitochondria play a role in remodelling lace plant leaves during programmed cell death?\n",
    "response: programmed cell death and mitochondria, mitochondria and lace plant leaves, remodelling lace plant leaves \n",
    "\n",
    "return your response in the form of {n} comma seprated strings \n",
    "\"\"\""
   ]
  },
  {
   "cell_type": "code",
   "execution_count": 24,
   "id": "0a25caff-223c-41e8-a4b3-145bb08ca4f7",
   "metadata": {},
   "outputs": [],
   "source": [
    "test_prompt = \"does ibuprofen lead to kidney failure in young adult men between the ages of 18 and 25?\"\n",
    "test_n = 3 "
   ]
  },
  {
   "cell_type": "code",
   "execution_count": 25,
   "id": "d57ca37c-444e-4665-ab46-5cfa5888b050",
   "metadata": {},
   "outputs": [
    {
     "name": "stdout",
     "output_type": "stream",
     "text": [
      "\n",
      "You are a LLM with no context on the following Pubmed-related prompt: does ibuprofen lead to kidney failure in young adult men between the ages of 18 and 25?\n",
      "\n",
      "You have a Pubmed context database that you can use to query for context. You must output a set of 3 topics separated by commas \n",
      "to query this context database\n",
      "\n",
      "As an example:\n",
      "Prompt: Do mitochondria play a role in remodelling lace plant leaves during programmed cell death?\n",
      "response: programmed cell death and mitochondria, mitochondria and lace plant leaves, remodelling lace plant leaves \n",
      "\n",
      "return your response in the form of 3 comma seprated strings \n",
      "\n"
     ]
    }
   ],
   "source": [
    "print(DEFAULT_TOPIC_SELF_QUERY_TEMPLATE.format(prompt=test_prompt, n=test_n))"
   ]
  },
  {
   "cell_type": "code",
   "execution_count": 26,
   "id": "9a7b2e62-b1fe-4da4-acb9-c45c784b4b8b",
   "metadata": {},
   "outputs": [],
   "source": [
    "text_response = llm_agent.get_response_from_prompt(DEFAULT_TOPIC_SELF_QUERY_TEMPLATE.format(prompt=test_prompt, n=test_n))"
   ]
  },
  {
   "cell_type": "code",
   "execution_count": 27,
   "id": "47e99913-4188-4197-b3dc-90e764853853",
   "metadata": {},
   "outputs": [
    {
     "data": {
      "text/plain": [
       "'ibuprofen and kidney failure, young adult men and kidney failure, ibuprofen and young adult men'"
      ]
     },
     "execution_count": 27,
     "metadata": {},
     "output_type": "execute_result"
    }
   ],
   "source": [
    "text_response.text_response"
   ]
  },
  {
   "cell_type": "code",
   "execution_count": 17,
   "id": "a3859b18-024e-47c7-8886-c630b85a2191",
   "metadata": {},
   "outputs": [
    {
     "data": {
      "text/plain": [
       "LLMPromptResponse(text_response='ibuprofen, kidney failure, young adult men', metadata={'id': 'chatcmpl-89yfFdP7tvE6hxBsPSjiAduyZLq7Q', 'object': 'chat.completion', 'created': 1697388837, 'model': 'gpt-3.5-turbo-0613', 'choices': [{'index': 0, 'message': {'role': 'assistant', 'content': 'ibuprofen, kidney failure, young adult men'}, 'finish_reason': 'stop'}], 'usage': {'prompt_tokens': 118, 'completion_tokens': 10, 'total_tokens': 128}})"
      ]
     },
     "execution_count": 17,
     "metadata": {},
     "output_type": "execute_result"
    }
   ],
   "source": [
    "text_response"
   ]
  },
  {
   "cell_type": "code",
   "execution_count": 28,
   "id": "0a0ce33c-679b-4ce7-9bc5-b2350fa7b788",
   "metadata": {},
   "outputs": [],
   "source": [
    "test_prompt = \"does marijuana cause dementia when used in high dosages in adults aged 80+\"\n",
    "test_n = 3 "
   ]
  },
  {
   "cell_type": "code",
   "execution_count": 29,
   "id": "625c1d39-d7fc-4ce1-8388-ac9fd4d257bd",
   "metadata": {},
   "outputs": [],
   "source": [
    "text_response = llm_agent.get_response_from_prompt(DEFAULT_TOPIC_SELF_QUERY_TEMPLATE.format(prompt=test_prompt, n=test_n))"
   ]
  },
  {
   "cell_type": "code",
   "execution_count": 30,
   "id": "fc7d1e22-9f31-4e56-86ae-bbb1c666df9d",
   "metadata": {},
   "outputs": [
    {
     "data": {
      "text/plain": [
       "'marijuana and dementia, high dosage marijuana and dementia, marijuana use in adults aged 80+ and dementia'"
      ]
     },
     "execution_count": 30,
     "metadata": {},
     "output_type": "execute_result"
    }
   ],
   "source": [
    "text_response.text_response"
   ]
  },
  {
   "cell_type": "code",
   "execution_count": null,
   "id": "7b565ea0-bbc6-4bf2-8a4f-7564fddbbeef",
   "metadata": {},
   "outputs": [],
   "source": []
  }
 ],
 "metadata": {
  "kernelspec": {
   "display_name": "Python 3 (ipykernel)",
   "language": "python",
   "name": "python3"
  },
  "language_info": {
   "codemirror_mode": {
    "name": "ipython",
    "version": 3
   },
   "file_extension": ".py",
   "mimetype": "text/x-python",
   "name": "python",
   "nbconvert_exporter": "python",
   "pygments_lexer": "ipython3",
   "version": "3.8.9"
  }
 },
 "nbformat": 4,
 "nbformat_minor": 5
}
