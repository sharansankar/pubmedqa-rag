{
 "cells": [
  {
   "cell_type": "code",
   "execution_count": 1,
   "id": "b2ee9280",
   "metadata": {},
   "outputs": [],
   "source": [
    "from dotenv import load_dotenv\n",
    "from datasets import load_dataset\n",
    "import chromadb\n",
    "import openai\n",
    "import os "
   ]
  },
  {
   "cell_type": "markdown",
   "id": "2ae0a9b6",
   "metadata": {},
   "source": [
    "## 1 Load up Vector DB "
   ]
  },
  {
   "cell_type": "code",
   "execution_count": 6,
   "id": "b004dd94",
   "metadata": {},
   "outputs": [],
   "source": [
    "def get_hugging_face_ds(name, split_name):\n",
    "  dataset = load_dataset(name, split=split_name)\n",
    "  return dataset\n",
    "\n",
    "CHROMA_CLIENT = None\n",
    "def get_chroma_client():\n",
    "  global CHROMA_CLIENT\n",
    "  if CHROMA_CLIENT is None:\n",
    "    CHROMA_CLIENT = chromadb.Client()\n",
    "  return CHROMA_CLIENT\n",
    "\n",
    "def load_dataset_into_chroma(collection_name, dataset, column_name, sample=None):\n",
    "  chroma_client = get_chroma_client()\n",
    "  collection = chroma_client.create_collection(collection_name)\n",
    "  if sample:\n",
    "    collection.add(\n",
    "      ids=[str(i) for i in range(0, sample)],  # IDs are just strings\n",
    "      documents=dataset[column_name][:sample]\n",
    "    )\n",
    "  else:\n",
    "    collection.add(\n",
    "      ids=[str(i) for i in range(0, len(dataset))],  # IDs are just strings\n",
    "      documents=dataset[column_name][:sample]\n",
    "    )\n",
    "\n",
    "  return collection"
   ]
  },
  {
   "cell_type": "code",
   "execution_count": 7,
   "id": "ec2e57a6",
   "metadata": {},
   "outputs": [
    {
     "name": "stderr",
     "output_type": "stream",
     "text": [
      "Found cached dataset parquet (/Users/sharansankar/.cache/huggingface/datasets/FedML___parquet/FedML--PubMedQA_instruction-acdd9fbab1be4b17/0.0.0/14a00e99c0d15a23649d0db8944380ac81082d4b021f398733dd84f3a6c569a7)\n"
     ]
    }
   ],
   "source": [
    "dataset = get_hugging_face_ds('FedML/PubMedQA_instruction',split_name='test')"
   ]
  },
  {
   "cell_type": "code",
   "execution_count": 8,
   "id": "434cac78",
   "metadata": {},
   "outputs": [
    {
     "data": {
      "text/plain": [
       "Dataset({\n",
       "    features: ['instruction', 'context', 'response', 'category'],\n",
       "    num_rows: 1000\n",
       "})"
      ]
     },
     "execution_count": 8,
     "metadata": {},
     "output_type": "execute_result"
    }
   ],
   "source": [
    "dataset"
   ]
  },
  {
   "cell_type": "code",
   "execution_count": 9,
   "id": "3a7869a5",
   "metadata": {},
   "outputs": [
    {
     "data": {
      "text/plain": [
       "['Do mitochondria play a role in remodelling lace plant leaves during programmed cell death?',\n",
       " 'Landolt C and snellen e acuity: differences in strabismus amblyopia?',\n",
       " 'Syncope during bathing in infants, a pediatric form of water-induced urticaria?',\n",
       " 'Are the long-term results of the transanal pull-through equal to those of the transabdominal pull-through?',\n",
       " 'Can tailored interventions increase mammography use among HMO women?']"
      ]
     },
     "execution_count": 9,
     "metadata": {},
     "output_type": "execute_result"
    }
   ],
   "source": [
    "dataset['instruction'][:5]"
   ]
  },
  {
   "cell_type": "code",
   "execution_count": 10,
   "id": "f6bc7d52",
   "metadata": {},
   "outputs": [
    {
     "name": "stdout",
     "output_type": "stream",
     "text": [
      "Running Chroma using direct local API.\n",
      "Using DuckDB in-memory for database. Data will be transient.\n"
     ]
    }
   ],
   "source": [
    "chroma_client = get_chroma_client()"
   ]
  },
  {
   "cell_type": "code",
   "execution_count": 11,
   "id": "90610374",
   "metadata": {},
   "outputs": [],
   "source": [
    "vector_db = load_dataset_into_chroma(\n",
    "    collection_name='pubmed_qa_context',\n",
    "    dataset=dataset,\n",
    "    column_name='context',\n",
    "    sample=100\n",
    ")"
   ]
  },
  {
   "cell_type": "markdown",
   "id": "0348f70b-d237-4717-b5b6-d8db77508dbb",
   "metadata": {},
   "source": [
    "## 2 Load up LLM Client"
   ]
  },
  {
   "cell_type": "code",
   "execution_count": 10,
   "id": "bcb6d953-60f5-479a-945d-78e09a073a3b",
   "metadata": {},
   "outputs": [],
   "source": [
    "os.getenv(\"OPENAI_API_KEY\")"
   ]
  },
  {
   "cell_type": "code",
   "execution_count": 16,
   "id": "6033d2a2-ed36-480a-902d-c8d5f7381c35",
   "metadata": {},
   "outputs": [
    {
     "data": {
      "text/plain": [
       "True"
      ]
     },
     "execution_count": 16,
     "metadata": {},
     "output_type": "execute_result"
    }
   ],
   "source": [
    "load_dotenv(dotenv_path=\"../.env\")"
   ]
  },
  {
   "cell_type": "code",
   "execution_count": 2,
   "id": "872f1cc3-a895-46e3-a2f3-d7ade1c4d7e9",
   "metadata": {},
   "outputs": [],
   "source": [
    "def init_open_ai():\n",
    "  load_dotenv(dotenv_path=\"../.env\")\n",
    "  openai.organization = os.getenv(\"OPENAI_ORG_KEY\")\n",
    "  openai.api_key = os.getenv(\"OPENAI_API_KEY\")\n",
    "  return\n"
   ]
  },
  {
   "cell_type": "code",
   "execution_count": 3,
   "id": "702906b8-e7d6-416d-90b0-1d464fab45b4",
   "metadata": {},
   "outputs": [],
   "source": [
    "def get_llm_client():\n",
    "  if openai.organization is None or openai.api_key is None:\n",
    "    init_open_ai()\n",
    "  return OpenAILLMClient()\n",
    "\n",
    "class OpenAILLMClient:\n",
    "  def __init__(self, model_name=\"gpt-3.5-turbo\"):\n",
    "    self.model_name = model_name\n",
    "\n",
    "  def get_response_from_prompt(self, prompt, prev_messages=None, role='user'):\n",
    "    if prev_messages:\n",
    "      prev_messages.append({\n",
    "          'role': role,\n",
    "          'content': prompt\n",
    "      })\n",
    "    else:\n",
    "      prev_messages = [\n",
    "        {\n",
    "          'role': role,\n",
    "          'content': prompt\n",
    "        }\n",
    "      ]\n",
    "    response = openai.ChatCompletion.create(\n",
    "      model=\"gpt-3.5-turbo\",\n",
    "      messages=prev_messages\n",
    "    )\n",
    "    return response"
   ]
  },
  {
   "cell_type": "code",
   "execution_count": 4,
   "id": "42317d98-30d2-4ab3-9e9e-4a0770dee80a",
   "metadata": {},
   "outputs": [],
   "source": [
    "open_ai_client = get_llm_client()"
   ]
  },
  {
   "cell_type": "code",
   "execution_count": 5,
   "id": "237f9bb3-634f-4b7d-bb82-3a3cc48c3d2b",
   "metadata": {},
   "outputs": [
    {
     "data": {
      "text/plain": [
       "<OpenAIObject chat.completion id=chatcmpl-89dlpxlCibCsGFp64SGZAo0LMhsWy at 0x7fce52baebd0> JSON: {\n",
       "  \"id\": \"chatcmpl-89dlpxlCibCsGFp64SGZAo0LMhsWy\",\n",
       "  \"object\": \"chat.completion\",\n",
       "  \"created\": 1697308521,\n",
       "  \"model\": \"gpt-3.5-turbo-0613\",\n",
       "  \"choices\": [\n",
       "    {\n",
       "      \"index\": 0,\n",
       "      \"message\": {\n",
       "        \"role\": \"assistant\",\n",
       "        \"content\": \"Hello! I am an AI language model developed by OpenAI called GPT-3. I don't have a personal name since I am an AI program. How can I assist you today?\"\n",
       "      },\n",
       "      \"finish_reason\": \"stop\"\n",
       "    }\n",
       "  ],\n",
       "  \"usage\": {\n",
       "    \"prompt_tokens\": 13,\n",
       "    \"completion_tokens\": 39,\n",
       "    \"total_tokens\": 52\n",
       "  }\n",
       "}"
      ]
     },
     "execution_count": 5,
     "metadata": {},
     "output_type": "execute_result"
    }
   ],
   "source": [
    "open_ai_client.get_response_from_prompt(\"hello what is your name?\") "
   ]
  },
  {
   "cell_type": "markdown",
   "id": "3d18fe48-97c8-4a8b-b579-051e6c1967e1",
   "metadata": {},
   "source": [
    "## 3 Creating Lookup Functionality "
   ]
  },
  {
   "cell_type": "code",
   "execution_count": 12,
   "id": "c28fb85b-9b48-447a-8066-5268f76ba569",
   "metadata": {},
   "outputs": [],
   "source": [
    "def lookup_vector_db_for_context(lookup_text, vector_db, num_samples=3):\n",
    "  results = vector_db.query(\n",
    "    query_texts=lookup_text,\n",
    "    n_results=num_samples\n",
    "  )\n",
    "  return results"
   ]
  },
  {
   "cell_type": "code",
   "execution_count": 14,
   "id": "5e53982b-6286-48ec-a0c5-2f7c3fbaac00",
   "metadata": {},
   "outputs": [],
   "source": [
    "query_response = lookup_vector_db_for_context(\n",
    "  \"what is the common cold?\", \n",
    "  vector_db=vector_db, \n",
    "  num_samples=3\n",
    ")"
   ]
  },
  {
   "cell_type": "code",
   "execution_count": 16,
   "id": "c1afdf2b-2aae-4533-8583-04d982c72d81",
   "metadata": {},
   "outputs": [
    {
     "data": {
      "text/plain": [
       "dict_keys(['embeddings', 'documents', 'ids', 'metadatas', 'distances'])"
      ]
     },
     "execution_count": 16,
     "metadata": {},
     "output_type": "execute_result"
    }
   ],
   "source": [
    "query_response.keys()"
   ]
  },
  {
   "cell_type": "code",
   "execution_count": 17,
   "id": "56a5bb58-af1e-45c7-b790-4b42a00d3569",
   "metadata": {},
   "outputs": [
    {
     "data": {
      "text/plain": [
       "[['To characterize the use and delivery of cough and cold medicines in children younger than 6 presenting to an inner-city pediatric emergency department (PED) following 2007 FDA warnings. A cross-sectional observational study was performed using a convenience sampling of PED patients during the fall of 2010. Caregivers were presented with 6 commonly used cough medicine preparations and were asked to demonstrate if and how they would administer these to their children. In all, 65 patients and their caregivers consented and participated in the study. During the demonstration, 82% (53/65) stated that they would treat with cough or cold medicines, and 72% (38/53) incorrectly dosed the medication they desired to give.',\n",
       "  'To examine patterns of knowledge and attitudes among adults aged>65 years unvaccinated for influenza. Surveyed Medicare beneficiaries in 5 areas; clustered unvaccinated seniors by their immunization related knowledge and attitudes. Identified 4 clusters: Potentials (45%) would receive influenza vaccine to prevent disease; Fearful Uninformeds (9%) were unsure if influenza vaccine causes illness; Doubters (27%) were unsure if vaccine is efficacious; Misinformeds (19%) believed influenza vaccine causes illness. More Potentials (75%) and Misinformeds (70%) ever received influenza vaccine than did Fearful Uninformeds (18%) and Doubters (29%).',\n",
       "  'A short course of systemic corticosteroids is an important therapy in the treatment of pediatric asthma exacerbations. Although a 5-day course of oral prednisone or prednisolone has become the most commonly used regimen, dexamethasone has also been used for a shorter duration (1-2 days) with potential for improvement in compliance and palatability. We reviewed the literature to determine if there is sufficient evidence that dexamethasone can be used as an effective alternative in the treatment of pediatric asthma exacerbations in the inpatient setting. A Medline search was conducted on the use of dexamethasone in the treatment of asthma exacerbations in children. The studies selected were clinical trials comparing the efficacy of dexamethasone with prednisone. Meta-analysis was performed examining physician revisitation rates and symptomatic return to baseline. Six completed pediatric clinical trials met the inclusion criteria. All of the pediatric trials found that prednisone is not superior to dexamethasone in treating mild to moderate asthma exacerbations. Meta-analysis demonstrated homogeneity between the dexamethasone and prednisone groups when examining symptomatic return to baseline and unplanned physician revisits after the initial emergency department encounter. Some studies found potential additional benefits of dexamethasone, including improved compliance and less vomiting.']]"
      ]
     },
     "execution_count": 17,
     "metadata": {},
     "output_type": "execute_result"
    }
   ],
   "source": [
    "query_response['documents']"
   ]
  },
  {
   "cell_type": "code",
   "execution_count": 46,
   "id": "2be6f677-2c01-4145-af94-10c26d0ff0e1",
   "metadata": {},
   "outputs": [
    {
     "data": {
      "text/plain": [
       "dict"
      ]
     },
     "execution_count": 46,
     "metadata": {},
     "output_type": "execute_result"
    }
   ],
   "source": [
    "type(query_response)"
   ]
  },
  {
   "cell_type": "code",
   "execution_count": 36,
   "id": "24853167-5e9f-481f-bf36-a3185170f9d7",
   "metadata": {},
   "outputs": [
    {
     "data": {
      "text/plain": [
       "['__class__',\n",
       " '__contains__',\n",
       " '__delattr__',\n",
       " '__delitem__',\n",
       " '__dir__',\n",
       " '__doc__',\n",
       " '__eq__',\n",
       " '__format__',\n",
       " '__ge__',\n",
       " '__getattribute__',\n",
       " '__getitem__',\n",
       " '__gt__',\n",
       " '__hash__',\n",
       " '__init__',\n",
       " '__init_subclass__',\n",
       " '__iter__',\n",
       " '__le__',\n",
       " '__len__',\n",
       " '__lt__',\n",
       " '__ne__',\n",
       " '__new__',\n",
       " '__reduce__',\n",
       " '__reduce_ex__',\n",
       " '__repr__',\n",
       " '__reversed__',\n",
       " '__setattr__',\n",
       " '__setitem__',\n",
       " '__sizeof__',\n",
       " '__str__',\n",
       " '__subclasshook__',\n",
       " 'clear',\n",
       " 'copy',\n",
       " 'fromkeys',\n",
       " 'get',\n",
       " 'items',\n",
       " 'keys',\n",
       " 'pop',\n",
       " 'popitem',\n",
       " 'setdefault',\n",
       " 'update',\n",
       " 'values']"
      ]
     },
     "execution_count": 36,
     "metadata": {},
     "output_type": "execute_result"
    }
   ],
   "source": [
    "dir(query_response)"
   ]
  },
  {
   "cell_type": "code",
   "execution_count": 40,
   "id": "137eab90-933f-49bf-81b8-2943d9497f60",
   "metadata": {},
   "outputs": [
    {
     "data": {
      "text/plain": [
       "dict_keys(['embeddings', 'documents', 'ids', 'metadatas', 'distances'])"
      ]
     },
     "execution_count": 40,
     "metadata": {},
     "output_type": "execute_result"
    }
   ],
   "source": [
    "query_response.keys()"
   ]
  },
  {
   "cell_type": "code",
   "execution_count": 43,
   "id": "5bb32dea-740a-4156-9042-a43fcf1e9129",
   "metadata": {},
   "outputs": [],
   "source": [
    "query_response = lookup_vector_db_for_context(\n",
    "  \"what is the common cold?\", \n",
    "  vector_db=vector_db, \n",
    "  num_samples=2\n",
    ")"
   ]
  },
  {
   "cell_type": "code",
   "execution_count": 45,
   "id": "0f717bec-eaf1-4a91-a169-44ef8bd4200a",
   "metadata": {},
   "outputs": [
    {
     "data": {
      "text/plain": [
       "['To characterize the use and delivery of cough and cold medicines in children younger than 6 presenting to an inner-city pediatric emergency department (PED) following 2007 FDA warnings. A cross-sectional observational study was performed using a convenience sampling of PED patients during the fall of 2010. Caregivers were presented with 6 commonly used cough medicine preparations and were asked to demonstrate if and how they would administer these to their children. In all, 65 patients and their caregivers consented and participated in the study. During the demonstration, 82% (53/65) stated that they would treat with cough or cold medicines, and 72% (38/53) incorrectly dosed the medication they desired to give.',\n",
       " 'To examine patterns of knowledge and attitudes among adults aged>65 years unvaccinated for influenza. Surveyed Medicare beneficiaries in 5 areas; clustered unvaccinated seniors by their immunization related knowledge and attitudes. Identified 4 clusters: Potentials (45%) would receive influenza vaccine to prevent disease; Fearful Uninformeds (9%) were unsure if influenza vaccine causes illness; Doubters (27%) were unsure if vaccine is efficacious; Misinformeds (19%) believed influenza vaccine causes illness. More Potentials (75%) and Misinformeds (70%) ever received influenza vaccine than did Fearful Uninformeds (18%) and Doubters (29%).']"
      ]
     },
     "execution_count": 45,
     "metadata": {},
     "output_type": "execute_result"
    }
   ],
   "source": [
    "query_response['documents'][0]"
   ]
  },
  {
   "cell_type": "code",
   "execution_count": 31,
   "id": "32efe3f7-c37e-47f0-b99b-54e8f8fb8dc2",
   "metadata": {},
   "outputs": [],
   "source": [
    "def get_prompt_template(prompt_question, context, prompt_template=PROMPT_RESPONSE_TEMPLATE):\n",
    "  return prompt_template.format(prompt=prompt_question, context='\\n'.join(context))"
   ]
  },
  {
   "cell_type": "markdown",
   "id": "6746d101-0f4c-4802-86c3-f4997a365594",
   "metadata": {},
   "source": [
    "## 4 Prompt Template Generator "
   ]
  },
  {
   "cell_type": "code",
   "execution_count": 18,
   "id": "a2637d6f-5564-4614-9e10-971b6fff41ec",
   "metadata": {},
   "outputs": [],
   "source": [
    "PROMPT_RESPONSE_TEMPLATE = \"\"\"\n",
    "You are a medical expert. Answer the following prompt, given the following context to use as your aid\n",
    "\n",
    "prompt: {prompt}\n",
    "\n",
    "context:\n",
    "{context}\n",
    "\"\"\""
   ]
  },
  {
   "cell_type": "code",
   "execution_count": 19,
   "id": "902d42ad-7130-407f-b658-35d1336a2adb",
   "metadata": {},
   "outputs": [
    {
     "name": "stdout",
     "output_type": "stream",
     "text": [
      "\n",
      "You are a medical expert. Answer the following prompt, given the following context to use as your aid\n",
      "\n",
      "prompt:  what is medicine? \n",
      "\n",
      "context:\n",
      " medicine is fun!\n",
      "\n"
     ]
    }
   ],
   "source": [
    "print(PROMPT_RESPONSE_TEMPLATE.format(prompt=' what is medicine? ', context=' medicine is fun!'))"
   ]
  },
  {
   "cell_type": "code",
   "execution_count": 21,
   "id": "beca6db8-46f7-43a9-aec2-44175a1615d9",
   "metadata": {},
   "outputs": [],
   "source": [
    "test_prompt = \"what is medicine?\""
   ]
  },
  {
   "cell_type": "code",
   "execution_count": 22,
   "id": "234fd297-3fc5-4a25-9eb2-ae395b092bee",
   "metadata": {},
   "outputs": [],
   "source": [
    "query_response = lookup_vector_db_for_context(test_prompt, vector_db=vector_db, num_samples=1)"
   ]
  },
  {
   "cell_type": "code",
   "execution_count": 23,
   "id": "a81a3984-e6f5-4888-b17e-85e9d7c52114",
   "metadata": {},
   "outputs": [],
   "source": [
    "query_response_texts = query_response['documents'][0]"
   ]
  },
  {
   "cell_type": "code",
   "execution_count": 24,
   "id": "3fc0c352-06b9-4e8d-aade-1df8a89d8228",
   "metadata": {},
   "outputs": [
    {
     "data": {
      "text/plain": [
       "['To characterize the use and delivery of cough and cold medicines in children younger than 6 presenting to an inner-city pediatric emergency department (PED) following 2007 FDA warnings. A cross-sectional observational study was performed using a convenience sampling of PED patients during the fall of 2010. Caregivers were presented with 6 commonly used cough medicine preparations and were asked to demonstrate if and how they would administer these to their children. In all, 65 patients and their caregivers consented and participated in the study. During the demonstration, 82% (53/65) stated that they would treat with cough or cold medicines, and 72% (38/53) incorrectly dosed the medication they desired to give.']"
      ]
     },
     "execution_count": 24,
     "metadata": {},
     "output_type": "execute_result"
    }
   ],
   "source": [
    "query_response_texts"
   ]
  },
  {
   "cell_type": "code",
   "execution_count": 25,
   "id": "159a0f6c-db09-4d68-a5c1-78bc4bd9cdf2",
   "metadata": {},
   "outputs": [],
   "source": [
    "test_prompt = PROMPT_RESPONSE_TEMPLATE.format(prompt=' what is medicine? ', context='\\n'.join(query_response_texts))"
   ]
  },
  {
   "cell_type": "code",
   "execution_count": 26,
   "id": "6b3addbf-c675-4220-a566-640d2182bd4d",
   "metadata": {},
   "outputs": [
    {
     "name": "stdout",
     "output_type": "stream",
     "text": [
      "\n",
      "You are a medical expert. Answer the following prompt, given the following context to use as your aid\n",
      "\n",
      "prompt:  what is medicine? \n",
      "\n",
      "context:\n",
      "To characterize the use and delivery of cough and cold medicines in children younger than 6 presenting to an inner-city pediatric emergency department (PED) following 2007 FDA warnings. A cross-sectional observational study was performed using a convenience sampling of PED patients during the fall of 2010. Caregivers were presented with 6 commonly used cough medicine preparations and were asked to demonstrate if and how they would administer these to their children. In all, 65 patients and their caregivers consented and participated in the study. During the demonstration, 82% (53/65) stated that they would treat with cough or cold medicines, and 72% (38/53) incorrectly dosed the medication they desired to give.\n",
      "\n"
     ]
    }
   ],
   "source": [
    "print(test_prompt)"
   ]
  },
  {
   "cell_type": "code",
   "execution_count": 27,
   "id": "61da2199-4165-48d2-9ecd-27d75145f1a6",
   "metadata": {},
   "outputs": [
    {
     "data": {
      "text/plain": [
       "<OpenAIObject chat.completion id=chatcmpl-89e59MKdCIHWl81M8V4oNEqIhphV1 at 0x7fce1c495900> JSON: {\n",
       "  \"id\": \"chatcmpl-89e59MKdCIHWl81M8V4oNEqIhphV1\",\n",
       "  \"object\": \"chat.completion\",\n",
       "  \"created\": 1697309719,\n",
       "  \"model\": \"gpt-3.5-turbo-0613\",\n",
       "  \"choices\": [\n",
       "    {\n",
       "      \"index\": 0,\n",
       "      \"message\": {\n",
       "        \"role\": \"assistant\",\n",
       "        \"content\": \"Medicine refers to substances or treatments used to prevent, cure, or alleviate the symptoms of a disease or medical condition. It involves the administration of substances, such as drugs or other therapeutic agents, with the aim of improving a patient's health.\\n\\nIn the context provided, the study focuses on the use and delivery of cough and cold medicines in children younger than 6 years old, specifically following FDA warnings in 2007. The cross-sectional observational study used a convenience sampling of patients visiting the pediatric emergency department in an inner-city setting during the fall of 2010.\\n\\nThe findings showed that 82% of caregivers stated they would treat their children with cough or cold medicines. However, concerning aspects arose from the study, as 72% of those who planned to administer medication incorrectly dosed it. This highlights the potential risk of improper administration of cough and cold medicines among young children, emphasizing the importance of accurate dosing and proper guidance from healthcare professionals.\\n\\nAs a medical expert, it is crucial to address this issue. While cough and cold medicines are commonly used to alleviate symptoms, especially in children, it is essential to educate caregivers about proper dosing and administration techniques. This education should emphasize adhering to recommended guidelines, consulting healthcare professionals for guidance, and considering age-specific dosages.\\n\\nFurthermore, healthcare providers should stay up to date with FDA warnings and guidelines regarding the use of cough and cold medicines in young children. By continuously educating themselves and effectively communicating this information to caregivers, healthcare professionals can ensure the safe and appropriate use of medicines in pediatric patients.\\n\\nIn summary, medicine encompasses the use of substances and treatments to prevent, cure, or alleviate symptoms of diseases or medical conditions. Within the context provided, the study highlights the need for proper dosing and administration of cough and cold medicines in young children, as demonstrated by the high percentage of caregivers who incorrectly dosed the medication. It is imperative for medical experts to educate both caregivers and healthcare professionals on safe and effective practices to ensure the optimal use of medicines in pediatric patients.\"\n",
       "      },\n",
       "      \"finish_reason\": \"stop\"\n",
       "    }\n",
       "  ],\n",
       "  \"usage\": {\n",
       "    \"prompt_tokens\": 184,\n",
       "    \"completion_tokens\": 404,\n",
       "    \"total_tokens\": 588\n",
       "  }\n",
       "}"
      ]
     },
     "execution_count": 27,
     "metadata": {},
     "output_type": "execute_result"
    }
   ],
   "source": [
    "open_ai_client.get_response_from_prompt(test_prompt)"
   ]
  },
  {
   "cell_type": "markdown",
   "id": "81c1fd1d-0204-49c9-b716-bac2ef3ff7ff",
   "metadata": {},
   "source": [
    "## 5 RAG-Based Prompt and Response System"
   ]
  },
  {
   "cell_type": "code",
   "execution_count": 32,
   "id": "ea3bcc35-0f7a-4f3b-bbd2-989f379381aa",
   "metadata": {},
   "outputs": [],
   "source": [
    "class RAGBasedPromptSystem:\n",
    "  def __init__(self, vector_db, llm_client, lookup_samples=3):\n",
    "    self.vector_db = vector_db\n",
    "    self.llm_client = llm_client\n",
    "    self.lookup_samples = lookup_samples\n",
    "\n",
    "  def _parse_context_texts(self, query_response):\n",
    "    return query_response['documents'][0]\n",
    "\n",
    "  def _parse_llm_response(self, llm_response):\n",
    "    return llm_response['choices'][0]['message']['content']\n",
    "\n",
    "  def get_response(self, prompt, test=True):\n",
    "    # 1 get context docs\n",
    "    query_lookup = lookup_vector_db_for_context(prompt, vector_db=self.vector_db, num_samples=self.lookup_samples)\n",
    "    context_texts = self._parse_context_texts(query_lookup)\n",
    "\n",
    "    # 2 generate LLM prompt\n",
    "    prompt_text = get_prompt_template(prompt_question=prompt, context=context_texts)\n",
    "\n",
    "    if test:\n",
    "      print(prompt_text)\n",
    "\n",
    "    # 3 get LLM response\n",
    "    llm_response = self.llm_client.get_response_from_prompt(prompt_text)\n",
    "    llm_response_text = self._parse_llm_response(llm_response)\n",
    "    return llm_response_text"
   ]
  },
  {
   "cell_type": "code",
   "execution_count": 33,
   "id": "f9b6a451-0860-4496-b56e-9ce46698d4cf",
   "metadata": {},
   "outputs": [],
   "source": [
    "rag_prompt_system = RAGBasedPromptSystem(vector_db=vector_db, llm_client=open_ai_client)"
   ]
  },
  {
   "cell_type": "code",
   "execution_count": 34,
   "id": "1343868f-5267-4807-8e49-5718d84e72e8",
   "metadata": {},
   "outputs": [
    {
     "name": "stdout",
     "output_type": "stream",
     "text": [
      "\n",
      "You are a medical expert. Answer the following prompt, given the following context to use as your aid\n",
      "\n",
      "prompt: what is medicine?\n",
      "\n",
      "context:\n",
      "To characterize the use and delivery of cough and cold medicines in children younger than 6 presenting to an inner-city pediatric emergency department (PED) following 2007 FDA warnings. A cross-sectional observational study was performed using a convenience sampling of PED patients during the fall of 2010. Caregivers were presented with 6 commonly used cough medicine preparations and were asked to demonstrate if and how they would administer these to their children. In all, 65 patients and their caregivers consented and participated in the study. During the demonstration, 82% (53/65) stated that they would treat with cough or cold medicines, and 72% (38/53) incorrectly dosed the medication they desired to give.\n",
      "It is commonly accepted that pathological gambling results from the interaction of multiple risk factors. Among these, dopamine replacement therapy (DRT) prescribed for Parkinson disease can be cited. Another dopamine agonist, aripiprazole, could be a new risk factor. We decided to explore this potential adverse drug reaction (ADR). Based on a cohort of 166 pathological gamblers starting treatment in our department, data of each of the 8 patients treated by aripiprazole at inclusion were analyzed. The patients involved were schizophrenic or bipolar, mostly young men with a history of addictive disorders and regular gambling prior to the prescription of aripiprazole. For each one of them, the causality of aripiprazole was considered, using an algorithm. The probability that pathological gambling is actually due to aripiprazole is \"possible\" in 7 cases out of 8, and \"doubtful\" in one.\n",
      "Recent years have seen a rapid proliferation of emergency ultrasound (EUS) programs in the United States. To date, there is no evidence supporting that EUS fellowships enhance residents' ultrasound (US) educational experiences. The purpose of this study was to determine the impact of EUS fellowships on emergency medicine (EM) residents' US education. We conducted a cross-sectional study at 9 academic medical centers. A questionnaire on US education and bedside US use was pilot tested and given to EM residents. The primary outcomes included the number of US examinations performed, scope of bedside US applications, barriers to residents' US education, and US use in the emergency department. The secondary outcomes were factors that would impact residents' US education. The outcomes were compared between residency programs with and without EUS fellowships. A total of 244 EM residents participated in this study. Thirty percent (95% confidence interval, 24%-35%) reported they had performed more than 150 scans. Residents in programs with EUS fellowships reported performing more scans than those in programs without fellowships (P = .04). Significant differences were noted in most applications of bedside US between residency programs with and without fellowships (P<.05). There were also significant differences in the barriers to US education between residency programs with and without fellowships (P<.05).\n",
      "\n"
     ]
    },
    {
     "data": {
      "text/plain": [
       "\"Medicine is a branch of healthcare that focuses on the diagnosis, treatment, and prevention of diseases and injuries. It encompasses a wide range of practices, including the use of medications, surgeries, therapies, and preventive measures. \\n\\nIn the given context, the first study examines the use and delivery of cough and cold medicines in children under 6 years old in an inner-city pediatric emergency department. The study found that a majority of caregivers (82%) stated that they would treat their children with cough or cold medicines, but a significant portion (72%) incorrectly dosed the medication. This highlights the importance of proper administration and dosing of medications in pediatric patients.\\n\\nIn the second context, the study explores the potential adverse drug reaction (ADR) of pathological gambling in patients prescribed with dopamine replacement therapy (DRT) for Parkinson's disease. Aripiprazole, a dopamine agonist, is identified as a new potential risk factor. The data from eight pathological gamblers treated with aripiprazole were analyzed, and it was found that there is a possibility or doubt that aripiprazole may cause pathological gambling in these patients. This suggests the need for further investigation and monitoring of patients on aripiprazole for the development of gambling disorders.\\n\\nThe third context discusses the impact of emergency ultrasound (EUS) fellowships on emergency medicine (EM) residents' ultrasound (US) education. The study shows that residents in programs with EUS fellowships reported performing more ultrasound scans and had a broader scope of bedside US applications compared to those in programs without fellowships. There were also significant differences in barriers to US education between the two types of residency programs. This emphasizes the potential benefits of EUS fellowships in enhancing residents' US education and expanding their skills in the emergency department.\\n\\nOverall, these contexts provide insights into different aspects of medicine, including medication administration in pediatric patients, adverse drug reactions, and the impact of fellowship programs on medical education. Medicine plays a crucial role in promoting health, diagnosing illnesses, and improving patient outcomes.\""
      ]
     },
     "execution_count": 34,
     "metadata": {},
     "output_type": "execute_result"
    }
   ],
   "source": [
    "rag_prompt_system.get_response('what is medicine?',test=True)"
   ]
  },
  {
   "cell_type": "code",
   "execution_count": 47,
   "id": "50986cc0-b70b-4671-bcc4-f685b1b702cc",
   "metadata": {},
   "outputs": [],
   "source": [
    "from enum import Enum"
   ]
  },
  {
   "cell_type": "code",
   "execution_count": 48,
   "id": "01355212-e49c-40a3-a4ff-5a5f6677e4ae",
   "metadata": {},
   "outputs": [],
   "source": [
    "class test(Enum):\n",
    "    ASD = \"asd\"\n",
    "    SSDF = \"ASDF\""
   ]
  },
  {
   "cell_type": "code",
   "execution_count": 50,
   "id": "030ec133-6778-4e7c-aebc-8feefe5e8d8b",
   "metadata": {},
   "outputs": [
    {
     "data": {
      "text/plain": [
       "'asd'"
      ]
     },
     "execution_count": 50,
     "metadata": {},
     "output_type": "execute_result"
    }
   ],
   "source": [
    "test.ASD.value"
   ]
  },
  {
   "cell_type": "code",
   "execution_count": null,
   "id": "26a0e37a-92fa-4269-913a-ece690087e8f",
   "metadata": {},
   "outputs": [],
   "source": []
  }
 ],
 "metadata": {
  "kernelspec": {
   "display_name": "Python 3 (ipykernel)",
   "language": "python",
   "name": "python3"
  },
  "language_info": {
   "codemirror_mode": {
    "name": "ipython",
    "version": 3
   },
   "file_extension": ".py",
   "mimetype": "text/x-python",
   "name": "python",
   "nbconvert_exporter": "python",
   "pygments_lexer": "ipython3",
   "version": "3.8.9"
  }
 },
 "nbformat": 4,
 "nbformat_minor": 5
}
